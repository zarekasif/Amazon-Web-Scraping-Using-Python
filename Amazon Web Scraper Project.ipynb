{
 "cells": [
  {
   "cell_type": "code",
   "execution_count": 1,
   "id": "5e0de74c",
   "metadata": {},
   "outputs": [],
   "source": [
    "# import libraries\n",
    "\n",
    "from bs4 import BeautifulSoup\n",
    "import requests\n",
    "import time\n",
    "import datetime\n",
    "\n",
    "import smtplib #used for sending email"
   ]
  },
  {
   "cell_type": "code",
   "execution_count": 7,
   "id": "9e22a815",
   "metadata": {},
   "outputs": [
    {
     "name": "stdout",
     "output_type": "stream",
     "text": [
      "\n",
      "                   Data Analyst T-Shirt for Men,Him, Male, Boss, Son - What's Your Superpower Tee Top - Men Clothing Shirt for Data Analyst\n",
      "                  \n",
      "\n",
      "                      $25.75\n",
      "                     \n"
     ]
    }
   ],
   "source": [
    "url = 'https://www.amazon.com/Data-Analyst-T-Shirt-Male-Boss/dp/B09T5BKPS3/ref=sr_1_1?crid=1LCDD70LHVV5G&keywords=data+analyst+shirt&qid=1694397982&sprefix=data+analyst+shir%2Caps%2C341&sr=8-1'\n",
    "\n",
    "headers = { \"User-Agent\": \"Mozilla/5.0 (Windows NT 10.0; Win64; x64) AppleWebKit/537.36 (KHTML, like Gecko) Chrome/116.0.0.0 Safari/537.36\", \"X-Amzn-Trace-Id\": \"Root=1-64fe766e-604f69155ac069893e083ce2\"}\n",
    "\n",
    "page = requests.get(url, headers = headers)\n",
    "\n",
    "soup1 = BeautifulSoup(page.content, \"html.parser\")\n",
    "\n",
    "soup2 = BeautifulSoup(soup1.prettify(), \"html.parser\")\n",
    "\n",
    "#title = soup2.find('span', attrs={'id':'productTitle'}).get_text() #Run the program multiple times because at first Amazon thinks that you are a bot and don't let you display the data\n",
    "\n",
    "#price = soup2.find('span', attrs={'class':'a-offscreen'}).get_text()\n",
    "\n",
    "title = soup2.find(id = 'productTitle').get_text() #### Wesay yeh line b run ho gai thi\n",
    "price = soup2.find('span', attrs={'class':'a-offscreen'}).get_text()\n",
    "\n",
    "#price = soup2.find(class = 'a-offscreen').get_text()\n",
    "\n",
    "print(title) \n",
    "print(price)"
   ]
  },
  {
   "cell_type": "code",
   "execution_count": 8,
   "id": "1327b4ee",
   "metadata": {
    "scrolled": true
   },
   "outputs": [
    {
     "name": "stdout",
     "output_type": "stream",
     "text": [
      "Data Analyst T-Shirt for Men,Him, Male, Boss, Son - What's Your Superpower Tee Top - Men Clothing Shirt for Data Analyst\n",
      "25.75\n"
     ]
    }
   ],
   "source": [
    "price = price.strip()[1:]\n",
    "title = title.strip()\n",
    "\n",
    "print(title)\n",
    "print(price)"
   ]
  },
  {
   "cell_type": "code",
   "execution_count": 9,
   "id": "d491e36c",
   "metadata": {},
   "outputs": [
    {
     "name": "stdout",
     "output_type": "stream",
     "text": [
      "2023-09-18\n"
     ]
    }
   ],
   "source": [
    "import datetime\n",
    "\n",
    "today = datetime.date.today()\n",
    "\n",
    "print(today)\n"
   ]
  },
  {
   "cell_type": "code",
   "execution_count": 11,
   "id": "23b0137b",
   "metadata": {},
   "outputs": [],
   "source": [
    "import csv\n",
    "\n",
    "header = ['Title', 'Price', 'Date']\n",
    "data = [title,price,today]\n",
    "\n",
    "with open('AmazonWebScraperDataset.csv', 'w', newline = '', encoding = 'UTF8') as f:\n",
    "          writer = csv.writer(f)\n",
    "          writer.writerow(header)\n",
    "          writer.writerow(data)"
   ]
  },
  {
   "cell_type": "code",
   "execution_count": 12,
   "id": "b4dad64d",
   "metadata": {},
   "outputs": [
    {
     "name": "stdout",
     "output_type": "stream",
     "text": [
      "                                               Title  Price        Date\n",
      "0  Data Analyst T-Shirt for Men,Him, Male, Boss, ...  25.75  2023-09-18\n"
     ]
    }
   ],
   "source": [
    "import pandas as pd\n",
    "\n",
    "df = pd.read_csv(r'C:\\Users\\hp\\Downloads\\Portfolio Project\\Amazon Web Scraping Using Python\\AmazonWebScraperDataset.csv')\n",
    "\n",
    "print(df)"
   ]
  },
  {
   "cell_type": "code",
   "execution_count": null,
   "id": "73544039",
   "metadata": {},
   "outputs": [],
   "source": [
    "# If uou want to try sending yourself an email (just for fun) when a price hits below a certain level you can try it\n",
    "# out with this script\n",
    "\n",
    "def send_mail():\n",
    "    server = smtplib.SMTP_SSL('smtp.gmail.com',465)\n",
    "    server.ehlo()\n",
    "    #server.starttls()\n",
    "    server.ehlo()\n",
    "    server.login('AlexTheAnalyst95@gmail.com','xxxxxxxxxxxxxx')\n",
    "    \n",
    "    subject = \"The Shirt you want is below $15! Now is your chance to buy!\"\n",
    "    body = \"Alex, This is the moment we have been waiting for. Now is your chance to pick up the shirt of your dreams. Don't mess it up! Link here: https://www.amazon.com/Funny-Data-Systems-Business-Analyst/dp/B07FNW9FGJ/ref=sr_1_3?dchild=1&keywords=data+analyst+tshirt&qid=1626655184&sr=8-3\"\n",
    "   \n",
    "    msg = f\"Subject: {subject}\\n\\n{body}\"\n",
    "    \n",
    "    server.sendmail(\n",
    "        'AlexTheAnalyst95@gmail.com',\n",
    "        msg\n",
    "     \n",
    "    )"
   ]
  }
 ],
 "metadata": {
  "kernelspec": {
   "display_name": "Python 3 (ipykernel)",
   "language": "python",
   "name": "python3"
  },
  "language_info": {
   "codemirror_mode": {
    "name": "ipython",
    "version": 3
   },
   "file_extension": ".py",
   "mimetype": "text/x-python",
   "name": "python",
   "nbconvert_exporter": "python",
   "pygments_lexer": "ipython3",
   "version": "3.11.3"
  }
 },
 "nbformat": 4,
 "nbformat_minor": 5
}
